{
  "nbformat": 4,
  "nbformat_minor": 0,
  "metadata": {
    "colab": {
      "name": "6864_hw1_part_1-2.ipynb",
      "provenance": [],
      "collapsed_sections": [],
      "machine_shape": "hm",
      "include_colab_link": true
    },
    "kernelspec": {
      "name": "python3",
      "display_name": "Python 3"
    },
    "accelerator": "GPU"
  },
  "cells": [
    {
      "cell_type": "markdown",
      "metadata": {
        "id": "view-in-github",
        "colab_type": "text"
      },
      "source": [
        "<a href=\"https://colab.research.google.com/github/alexmijo/6.806-Homeworks/blob/main/6864_hw1_part_1_2.ipynb\" target=\"_parent\"><img src=\"https://colab.research.google.com/assets/colab-badge.svg\" alt=\"Open In Colab\"/></a>"
      ]
    },
    {
      "cell_type": "code",
      "metadata": {
        "id": "A0MHaHrdUACZ"
      },
      "source": [
        "import csv\n",
        "import itertools as it\n",
        "import numpy as np\n",
        "import sklearn.decomposition\n",
        "np.random.seed(0)\n",
        "from tqdm import tqdm\n",
        "\n",
        "import lab_util"
      ],
      "execution_count": null,
      "outputs": []
    },
    {
      "cell_type": "markdown",
      "metadata": {
        "id": "cZ3MUj4iUf76"
      },
      "source": [
        "# Introduction\n",
        "\n",
        "In this notebook, you will find code scaffolding for the word representation parts of Homework 1 (matrix factorization and Word2Vec-style language modeling; code for the HMM section of the assignment is released in another notebook). There are certain parts of the scaffolding marked with `# Your code here!` comments where you can fill in code to perform the specified tasks. After implementing the methods in this notebook, you will need to design and perform experiments to evaluate each method and respond to the questions in the Homework 1 handout (available on Canvas). You should be able to complete this assignment without changing any of the scaffolding code, just writing code to fill in the scaffolding and run experiments."
      ]
    },
    {
      "cell_type": "markdown",
      "metadata": {
        "id": "gG654Y9J3yHw"
      },
      "source": [
        "## Dataset\n",
        "\n",
        "We're going to be working with a dataset of product reviews. The following cell loads the dataset and splits it into training, validation, and test sets."
      ]
    },
    {
      "cell_type": "code",
      "metadata": {
        "id": "JwiX-Tc9V1xI",
        "colab": {
          "base_uri": "https://localhost:8080/"
        },
        "outputId": "37e28c55-22f2-44a3-9d1b-c10bc28a22d9"
      },
      "source": [
        "data = []\n",
        "n_positive = 0\n",
        "n_disp = 0\n",
        "with open(\"reviews.csv\") as reader:\n",
        "  csvreader = csv.reader(reader)\n",
        "  next(csvreader)\n",
        "  for id, review, label in csvreader:\n",
        "    label = int(label)\n",
        "\n",
        "    # hacky class balancing\n",
        "    if label == 1:\n",
        "      if n_positive == 2000:\n",
        "        continue\n",
        "      n_positive += 1\n",
        "    if len(data) == 4000:\n",
        "      break\n",
        "\n",
        "    data.append((review, label))\n",
        "    \n",
        "    if n_disp > 5:\n",
        "      continue\n",
        "    n_disp += 1\n",
        "    print(\"review:\", review)\n",
        "    print(\"rating:\", label, \"(good)\" if label == 1 else \"(bad)\")\n",
        "    print()\n",
        "\n",
        "print(f\"Read {len(data)} total reviews.\")\n",
        "np.random.shuffle(data)\n",
        "reviews, labels = zip(*data)\n",
        "train_reviews = reviews[:3000]\n",
        "train_labels = labels[:3000]\n",
        "val_reviews = reviews[3000:3500]\n",
        "val_labels = labels[3000:3500]\n",
        "test_reviews = reviews[3500:]\n",
        "test_labels = labels[3500:]"
      ],
      "execution_count": null,
      "outputs": [
        {
          "output_type": "stream",
          "name": "stdout",
          "text": [
            "review: I have bought several of the Vitality canned dog food products and have found them all to be of good quality. The product looks more like a stew than a processed meat and it smells better. My Labrador is finicky and she appreciates this product better than  most.\n",
            "rating: 1 (good)\n",
            "\n",
            "review: Product arrived labeled as Jumbo Salted Peanuts...the peanuts were actually small sized unsalted. Not sure if this was an error or if the vendor intended to represent the product as \"Jumbo\".\n",
            "rating: 0 (bad)\n",
            "\n",
            "review: This is a confection that has been around a few centuries.  It is a light, pillowy citrus gelatin with nuts - in this case Filberts. And it is cut into tiny squares and then liberally coated with powdered sugar.  And it is a tiny mouthful of heaven.  Not too chewy, and very flavorful.  I highly recommend this yummy treat.  If you are familiar with the story of C.S. Lewis' \"The Lion, The Witch, and The Wardrobe\" - this is the treat that seduces Edmund into selling out his Brother and Sisters to the Witch.\n",
            "rating: 1 (good)\n",
            "\n",
            "review: If you are looking for the secret ingredient in Robitussin I believe I have found it.  I got this in addition to the Root Beer Extract I ordered (which was good) and made some cherry soda.  The flavor is very medicinal.\n",
            "rating: 0 (bad)\n",
            "\n",
            "review: Great taffy at a great price.  There was a wide assortment of yummy taffy.  Delivery was very quick.  If your a taffy lover, this is a deal.\n",
            "rating: 1 (good)\n",
            "\n",
            "review: I got a wild hair for taffy and ordered this five pound bag. The taffy was all very enjoyable with many flavors: watermelon, root beer, melon, peppermint, grape, etc. My only complaint is there was a bit too much red/black licorice-flavored pieces (just not my particular favorites). Between me, my kids, and my husband, this lasted only two weeks! I would recommend this brand of taffy -- it was a delightful treat.\n",
            "rating: 1 (good)\n",
            "\n",
            "Read 4000 total reviews.\n"
          ]
        }
      ]
    },
    {
      "cell_type": "markdown",
      "metadata": {
        "id": "twLHWqM6Z5xD"
      },
      "source": [
        "# Part 1: word representations via matrix factorization\n",
        "\n",
        "First, we'll construct the term-document matrix (look at `/content/hw1/lab_util.py` in the file browser on the left if you want to see how this works)."
      ]
    },
    {
      "cell_type": "code",
      "metadata": {
        "id": "3WPt6Y7-Z_7P",
        "colab": {
          "base_uri": "https://localhost:8080/"
        },
        "outputId": "13dd787f-3b20-4b35-947d-9002bdbc78f4"
      },
      "source": [
        "vectorizer = lab_util.CountVectorizer()\n",
        "vectorizer.fit(train_reviews)\n",
        "td_matrix = vectorizer.transform(train_reviews).T\n",
        "print(f\"TD matrix is {td_matrix.shape[0]} x {td_matrix.shape[1]}\")"
      ],
      "execution_count": null,
      "outputs": [
        {
          "output_type": "stream",
          "name": "stdout",
          "text": [
            "TD matrix is 2006 x 3000\n"
          ]
        }
      ]
    },
    {
      "cell_type": "markdown",
      "metadata": {
        "id": "hd3-pw4XbD4B"
      },
      "source": [
        "First, implement the function `learn_reps_lsa` that computes word representations via latent semantic analysis. The `sklearn.decomposition` or `np.linalg` packages may be useful."
      ]
    },
    {
      "cell_type": "code",
      "metadata": {
        "id": "KASVs8KubeBE"
      },
      "source": [
        "import sklearn.decomposition\n",
        "def learn_reps_lsa(matrix, rep_size):\n",
        "    # `matrix` is a `|V| x n` matrix, where `|V|` is the number of words in the\n",
        "    # vocabulary. This function should return a `|V| x rep_size` matrix with each\n",
        "    # row corresponding to a word representation.\n",
        "\n",
        "    svd = sklearn.decomposition.TruncatedSVD(n_components=rep_size)\n",
        "    return svd.fit_transform(matrix)"
      ],
      "execution_count": null,
      "outputs": []
    },
    {
      "cell_type": "markdown",
      "metadata": {
        "id": "0fxv02wO9LbS"
      },
      "source": [
        "#### Sanity check 1\n",
        "The following cell contains a simple sanity check for your `learn_reps_lsa` implementation: it should print `True` if your `learn_reps_lsa` function is implemented equivalently to one of our solutions.  There are at least two reasonable ways to formulate these LSA word representations (whether you directly use the left singular vectors of `matrix` or scale them by the singular values), these correspond to the two possible representations in the sanity check below."
      ]
    },
    {
      "cell_type": "code",
      "metadata": {
        "id": "KsRlKB9q9Js-",
        "colab": {
          "base_uri": "https://localhost:8080/"
        },
        "outputId": "225a70c2-6234-4097-cc7d-b1b40a999e33"
      },
      "source": [
        "DEBUG_sc1_matrix = np.array([[1,0,0,2,1,3,5],\n",
        "                             [2,0,0,0,0,4,0],\n",
        "                             [0,3,4,1,8,6,6],\n",
        "                             [1,4,5,0,0,0,0]])\n",
        "\n",
        "DEBUG_reps = learn_reps_lsa(DEBUG_sc1_matrix, 3)\n",
        "DEBUG_gt1 = np.array([[ -4.92017554,  -2.85465774,   1.18575453],\n",
        "                      [ -2.14977584,  -1.19987977,   3.37221899],\n",
        "                      [-12.62664695,   0.10890093,  -1.32131745],\n",
        "                      [ -2.69216011,   5.66453534,   1.33728063]])\n",
        "DEBUG_gt2 = np.array([[-0.35188159, -0.44213061,  0.29358929],\n",
        "                      [-0.15374788, -0.18583789,  0.83495136],\n",
        "                      [-0.90303377,  0.01686662, -0.32715426],\n",
        "                      [-0.19253817,  0.87732566,  0.3311067 ]])\n",
        "\n",
        "print(np.allclose(np.abs(DEBUG_reps), np.abs(DEBUG_gt1)) or np.allclose(np.abs(DEBUG_reps), np.abs(DEBUG_gt2)))"
      ],
      "execution_count": null,
      "outputs": [
        {
          "output_type": "stream",
          "name": "stdout",
          "text": [
            "True\n"
          ]
        }
      ]
    },
    {
      "cell_type": "markdown",
      "metadata": {
        "id": "SKWzRC0dclVK"
      },
      "source": [
        "Let's look at some representations:"
      ]
    },
    {
      "cell_type": "code",
      "metadata": {
        "id": "-Ad7RZkwceWw",
        "colab": {
          "base_uri": "https://localhost:8080/"
        },
        "outputId": "05464005-81d3-4a71-dd5c-1de54d80dbd9"
      },
      "source": [
        "reps = learn_reps_lsa(td_matrix, 500)\n",
        "words = [\"good\", \"bad\", \"cookie\", \"jelly\", \"dog\", \"the\", \"3\"]\n",
        "show_tokens = [vectorizer.tokenizer.word_to_token[word] for word in words]\n",
        "lab_util.show_similar_words(vectorizer.tokenizer, reps, show_tokens)"
      ],
      "execution_count": null,
      "outputs": [
        {
          "output_type": "stream",
          "name": "stdout",
          "text": [
            "good 47\n",
            "  . 1.056\n",
            "  a 1.101\n",
            "  but 1.121\n",
            "  , 1.152\n",
            "  the 1.157\n",
            "bad 201\n",
            "  . 1.396\n",
            "  taste 1.416\n",
            "  but 1.434\n",
            "  a 1.435\n",
            "  i 1.449\n",
            "cookie 504\n",
            "  nana's 0.791\n",
            "  cookies 1.035\n",
            "  oreos 1.294\n",
            "  bars 1.352\n",
            "  bites 1.385\n",
            "jelly 351\n",
            "  twist 1.143\n",
            "  cardboard 1.249\n",
            "  advertised 1.364\n",
            "  peanuts 1.421\n",
            "  plastic 1.422\n",
            "dog 925\n",
            "  food 1.048\n",
            "  pet 1.065\n",
            "  pets 1.067\n",
            "  switched 1.207\n",
            "  foods 1.229\n",
            "the 36\n",
            "  . 0.331\n",
            "  <unk> 0.366\n",
            "  of 0.395\n",
            "  and 0.403\n",
            "  to 0.422\n",
            "3 289\n",
            "  8 1.215\n",
            "  . 1.239\n",
            "  the 1.271\n",
            "  to 1.272\n",
            "  <unk> 1.279\n"
          ]
        }
      ]
    },
    {
      "cell_type": "markdown",
      "metadata": {
        "id": "LsOAGLB3iRjT"
      },
      "source": [
        "We've been operating on the raw count matrix, but in class we discussed several reweighting schemes aimed at making LSA representations more informative. \n",
        "\n",
        "Here, implement the TF-IDF transform and see how it affects learned representations."
      ]
    },
    {
      "cell_type": "code",
      "metadata": {
        "id": "1y3PmW-IgpqA"
      },
      "source": [
        "def transform_tfidf(matrix):\n",
        "    # `matrix` is a `|V| x |D|` matrix of raw counts, where `|V|` is the \n",
        "    # vocabulary size and `|D|` is the number of documents in the corpus. This\n",
        "    # function should (nondestructively) return a version of `matrix` with the\n",
        "    # TF-IDF transform applied.\n",
        "\n",
        "    df = np.count_nonzero(matrix, axis=1)\n",
        "    num_docs = matrix.shape[1]\n",
        "    idf = np.log(num_docs / df)\n",
        "    return matrix * idf[:,None]"
      ],
      "execution_count": null,
      "outputs": []
    },
    {
      "cell_type": "markdown",
      "metadata": {
        "id": "CnfIOUYjEZjw"
      },
      "source": [
        "#### Sanity check 2\n",
        "The following cell should print `True` if your `transform_tfidf` function is implemented properly. (*Hint: in our implementation, we use the natural logarithm (base $e$) when computing inverse document frequency.*)"
      ]
    },
    {
      "cell_type": "code",
      "metadata": {
        "id": "KVtphNeDEj2W",
        "colab": {
          "base_uri": "https://localhost:8080/"
        },
        "outputId": "3c17c4f3-5603-4a7e-cd15-079d4d0dd045"
      },
      "source": [
        "DEBUG_sc2_matrix = np.array([[3,1,0,3,0],\n",
        "                             [0,2,0,0,1],\n",
        "                             [7,8,2,0,1],\n",
        "                             [1,9,8,1,0]])\n",
        "DEBUG_gt = np.array([[1.53247687, 0.51082562, 0.        , 1.53247687, 0.        ],\n",
        "                     [0.        , 1.83258146, 0.        , 0.        , 0.91629073],\n",
        "                     [1.56200486, 1.78514841, 0.4462871 , 0.        , 0.22314355],\n",
        "                     [0.22314355, 2.00829196, 1.78514841, 0.22314355, 0.        ]])\n",
        "print(np.allclose(transform_tfidf(DEBUG_sc2_matrix), DEBUG_gt))"
      ],
      "execution_count": null,
      "outputs": [
        {
          "output_type": "stream",
          "name": "stdout",
          "text": [
            "True\n"
          ]
        }
      ]
    },
    {
      "cell_type": "markdown",
      "metadata": {
        "id": "xOprgqzHi7bk"
      },
      "source": [
        "How does this change the learned similarity function?\n"
      ]
    },
    {
      "cell_type": "code",
      "metadata": {
        "id": "SV5xKLYTi7LA",
        "colab": {
          "base_uri": "https://localhost:8080/"
        },
        "outputId": "adc16121-343b-4d5d-84cf-78f673179681"
      },
      "source": [
        "td_matrix_tfidf = transform_tfidf(td_matrix)\n",
        "reps_tfidf = learn_reps_lsa(td_matrix_tfidf, 500)\n",
        "# reps_tfidf = learn_reps_lsa(td_matrix_tfidf, 100)\n",
        "lab_util.show_similar_words(vectorizer.tokenizer, reps_tfidf, show_tokens)"
      ],
      "execution_count": null,
      "outputs": [
        {
          "output_type": "stream",
          "name": "stdout",
          "text": [
            "good 47\n",
            "  . 0.980\n",
            "  but 1.014\n",
            "  a 1.032\n",
            "  and 1.086\n",
            "  is 1.091\n",
            "bad 201\n",
            "  . 1.330\n",
            "  taste 1.339\n",
            "  but 1.355\n",
            "  a 1.371\n",
            "  not 1.381\n",
            "cookie 504\n",
            "  nana's 0.810\n",
            "  cookies 1.159\n",
            "  bars 1.435\n",
            "  bites 1.449\n",
            "  moist 1.452\n",
            "jelly 351\n",
            "  twist 1.088\n",
            "  cardboard 1.230\n",
            "  advertised 1.361\n",
            "  plum 1.493\n",
            "  sold 1.538\n",
            "dog 925\n",
            "  food 1.031\n",
            "  pets 1.096\n",
            "  pet 1.102\n",
            "  foods 1.186\n",
            "  switched 1.255\n",
            "the 36\n",
            "  . 0.212\n",
            "  and 0.270\n",
            "  <unk> 0.292\n",
            "  of 0.300\n",
            "  to 0.322\n",
            "3 289\n",
            "  8 1.146\n",
            "  . 1.174\n",
            "  to 1.216\n",
            "  the 1.217\n",
            "  of 1.229\n"
          ]
        }
      ]
    },
    {
      "cell_type": "markdown",
      "metadata": {
        "id": "HO-NG4u1kG9z"
      },
      "source": [
        "Now that we have some representations, let's see if we can do something useful with them.\n",
        "\n",
        "Below, implement a feature function that represents a document as the sum of its\n",
        "learned word embeddings.\n",
        "\n",
        "The remaining code trains a logistic regression model on a set of *labeled* reviews; we're interested in seeing how much representations learned from *unlabeled* reviews improve classification."
      ]
    },
    {
      "cell_type": "code",
      "metadata": {
        "id": "6B08xvIFlee3",
        "colab": {
          "base_uri": "https://localhost:8080/"
        },
        "outputId": "e5f03aad-0ee9-4b94-e61c-d22772f1be16"
      },
      "source": [
        "import sklearn.linear_model\n",
        "\n",
        "def word_featurizer(xs):\n",
        "    # normalize\n",
        "    return xs / np.sqrt((xs ** 2).sum(axis=1, keepdims=True))\n",
        "\n",
        "def lsa_featurizer(xs):\n",
        "    # This function takes in a matrix in which each row contains the word counts\n",
        "    # for the given review. It should return a matrix in which each row contains\n",
        "    # the learned feature representation of each review (e.g. the sum of LSA \n",
        "    # word representations).\n",
        "\n",
        "    feats = xs @ reps_tfidf\n",
        "\n",
        "    # normalize\n",
        "    return feats / np.sqrt((feats ** 2).sum(axis=1, keepdims=True))\n",
        "\n",
        "# We've implemented the remainder of the training and evaluation pipeline,\n",
        "# so you likely won't need to modify the following four functions.\n",
        "def combo_featurizer(xs):\n",
        "    return np.concatenate((word_featurizer(xs), lsa_featurizer(xs)), axis=1)\n",
        "\n",
        "def train_model(featurizer, xs, ys):\n",
        "    xs_featurized = featurizer(xs)\n",
        "    model = sklearn.linear_model.LogisticRegression()\n",
        "    model.fit(xs_featurized, ys)\n",
        "    return model\n",
        "\n",
        "def eval_model(model, featurizer, xs, ys):\n",
        "    xs_featurized = featurizer(xs)\n",
        "    pred_ys = model.predict(xs_featurized)\n",
        "    return np.mean(pred_ys == ys)\n",
        "\n",
        "def training_experiment(name, featurizer, n_train):\n",
        "    print(f\"{name} features, {n_train} examples\")\n",
        "    train_xs = vectorizer.transform(train_reviews[:n_train])\n",
        "    train_ys = train_labels[:n_train]\n",
        "    test_xs = vectorizer.transform(test_reviews)\n",
        "    test_ys = test_labels\n",
        "    model = train_model(featurizer, train_xs, train_ys)\n",
        "    acc = eval_model(model, featurizer, test_xs, test_ys)\n",
        "    print(acc, '\\n')\n",
        "    return acc\n",
        "\n",
        "# The following four lines will run a training experiment with all 3k examples\n",
        "# in training set for each feature type. `training_experiment` may be useful to\n",
        "# you when performing experiments to answer questions in Part 1 of the Homework\n",
        "# 1 handout.\n",
        "n_train = 3000\n",
        "training_experiment(\"word\", word_featurizer, n_train)\n",
        "#training_experiment(\"lsa\", lsa_featurizer, n_train)\n",
        "#training_experiment(\"combo\", combo_featurizer, n_train)\n",
        "print()"
      ],
      "execution_count": null,
      "outputs": [
        {
          "output_type": "stream",
          "name": "stdout",
          "text": [
            "word features, 3000 examples\n",
            "0.784 \n",
            "\n",
            "\n"
          ]
        }
      ]
    },
    {
      "cell_type": "markdown",
      "metadata": {
        "id": "rpXziVNrlfp2"
      },
      "source": [
        "**Part 1: Lab writeup**\n",
        "\n",
        "Part 1 of your lab report should discuss any implementation details that were important to filling out the code above, as well as your answers to the questions in Part 1 of the Homework 1 handout. Below, you can set up and perform experiments that answer these questions (include figures, plots, and tables in your write-up as you see fit)."
      ]
    },
    {
      "cell_type": "markdown",
      "metadata": {
        "id": "L3WrzsHhC1I5"
      },
      "source": [
        "## Experiments for Part 1"
      ]
    },
    {
      "cell_type": "code",
      "metadata": {
        "id": "aTVF9JdRNOsx",
        "colab": {
          "base_uri": "https://localhost:8080/"
        },
        "outputId": "436aaa94-642d-468f-95ea-d612332fc171"
      },
      "source": [
        "# Part 1 (a)\n",
        "td_lsv = learn_reps_lsa(td_matrix, 10)\n",
        "print(td_lsv[:3,:])\n",
        "print('\\n')\n",
        "tt_lsv = learn_reps_lsa(td_matrix @ td_matrix.T, 10)\n",
        "print(tt_lsv[:3,:]) \n",
        "print('\\nNow normalized:')\n",
        "\n",
        "td_lsv = td_lsv / np.sqrt((td_lsv ** 2).sum(axis=0, keepdims=True))\n",
        "print(td_lsv[:3,:])\n",
        "print('\\n')\n",
        "tt_lsv = tt_lsv / np.sqrt((tt_lsv ** 2).sum(axis=0, keepdims=True))\n",
        "print(tt_lsv[:3,:]) # Should be the same if the same left singular vectors are found\n",
        "print('\\n 100:')\n",
        "\n",
        "\n",
        "# Part 1 (b)\n",
        "reps_tfidf = learn_reps_lsa(td_matrix_tfidf, 100)\n",
        "lab_util.show_similar_words(vectorizer.tokenizer, reps_tfidf, show_tokens)\n",
        "print('\\n 50:')\n",
        "reps_tfidf = learn_reps_lsa(td_matrix_tfidf, 50)\n",
        "lab_util.show_similar_words(vectorizer.tokenizer, reps_tfidf, show_tokens)\n",
        "print('\\n 5:')\n",
        "reps_tfidf = learn_reps_lsa(td_matrix_tfidf, 5)\n",
        "lab_util.show_similar_words(vectorizer.tokenizer, reps_tfidf, show_tokens)"
      ],
      "execution_count": null,
      "outputs": [
        {
          "output_type": "stream",
          "name": "stdout",
          "text": [
            "[[ 6.74359474e+02  1.74027683e+02 -3.14474899e+01  1.07754108e+01\n",
            "  -1.49104700e+01 -2.94069195e+00 -4.86052070e+00 -5.19135827e+00\n",
            "   2.19425445e+00 -3.14353834e+00]\n",
            " [ 2.26622823e+01 -1.34838991e+01  2.13550356e+00  3.90265580e+00\n",
            "   2.96163529e-01 -5.20182054e+00 -2.21451355e+01  1.60523913e+01\n",
            "  -4.60902727e+00  6.19446675e+00]\n",
            " [ 3.75139816e+01 -1.11094699e+01  3.41700253e+00  5.88693479e+00\n",
            "   4.30552121e+00 -1.07335866e+01 -1.37645600e+01  2.42311690e+01\n",
            "  -1.29253544e+01  6.01384793e+00]]\n",
            "\n",
            "\n",
            "[[ 6.59999452e+05  4.50429141e+04 -5.54306904e+03  1.66797496e+03\n",
            "  -1.95251498e+03 -3.70409255e+02 -5.40726037e+02 -5.32731088e+02\n",
            "   2.06052009e+02 -2.53778049e+02]\n",
            " [ 2.21797045e+04 -3.48998552e+03  3.76412122e+02  6.04108207e+02\n",
            "   3.87996478e+01 -6.55201941e+02 -2.46344567e+03  1.64785311e+03\n",
            "  -4.26443465e+02  5.07736097e+02]\n",
            " [ 3.67151470e+04 -2.87542107e+03  6.02293611e+02  9.11248679e+02\n",
            "   5.63820814e+02 -1.35192416e+03 -1.53195564e+03  2.48799934e+03\n",
            "  -1.19984483e+03  5.06195581e+02]]\n",
            "\n",
            "Now normalized:\n",
            "[[ 0.68903194  0.67237289 -0.17841103  0.06961096 -0.11386412 -0.02334552\n",
            "  -0.04370063 -0.05057994  0.02349891 -0.03866301]\n",
            " [ 0.02315536 -0.05209636  0.01211535  0.02521181  0.00226166 -0.04129613\n",
            "  -0.1991055   0.1564001  -0.04935942  0.07618699]\n",
            " [ 0.0383302  -0.04292252  0.01938568  0.03803059  0.0328792  -0.08521162\n",
            "  -0.12375628  0.23608677 -0.1384214   0.07396552]]\n",
            "\n",
            "\n",
            "[[ 0.68903194  0.67237289 -0.17841104  0.06961088 -0.11386375 -0.02334478\n",
            "  -0.04371061 -0.05057103  0.0236305  -0.03838491]\n",
            " [ 0.02315536 -0.05209636  0.01211532  0.02521171  0.00226266 -0.04129363\n",
            "  -0.1991373   0.15642721 -0.04890547  0.07679704]\n",
            " [ 0.0383302  -0.04292252  0.01938562  0.03802984  0.03288003 -0.08520405\n",
            "  -0.12383854  0.23618051 -0.13760084  0.07656403]]\n",
            "\n",
            " 100:\n",
            "good 47\n",
            "  but 0.432\n",
            "  . 0.533\n",
            "  like 0.598\n",
            "  a 0.611\n",
            "  for 0.624\n",
            "bad 201\n",
            "  taste 0.601\n",
            "  like 0.642\n",
            "  but 0.694\n",
            "  just 0.736\n",
            "  me 0.780\n",
            "cookie 504\n",
            "  cookies 0.371\n",
            "  nana's 0.461\n",
            "  oreos 0.770\n",
            "  bars 0.900\n",
            "  shortbread 0.991\n",
            "jelly 351\n",
            "  gifts 0.803\n",
            "  creamer 0.811\n",
            "  advertised 1.091\n",
            "  cardboard 1.124\n",
            "  own 1.129\n",
            "dog 925\n",
            "  pet 0.738\n",
            "  foods 0.748\n",
            "  switched 0.787\n",
            "  pets 0.836\n",
            "  food 0.885\n",
            "the 36\n",
            "  . 0.119\n",
            "  of 0.145\n",
            "  to 0.151\n",
            "  and 0.160\n",
            "  <unk> 0.206\n",
            "3 289\n",
            "  8 0.742\n",
            "  2 0.766\n",
            "  1 0.778\n",
            "  4 0.858\n",
            "  to 0.878\n",
            "\n",
            " 50:\n",
            "good 47\n",
            "  but 0.269\n",
            "  . 0.359\n",
            "  like 0.380\n",
            "  tasty 0.405\n",
            "  is 0.411\n",
            "bad 201\n",
            "  like 0.403\n",
            "  taste 0.407\n",
            "  me 0.424\n",
            "  just 0.500\n",
            "  but 0.512\n",
            "cookie 504\n",
            "  nana's 0.335\n",
            "  cookies 0.341\n",
            "  re 0.719\n",
            "  shortbread 0.743\n",
            "  gluten 0.769\n",
            "jelly 351\n",
            "  gifts 0.412\n",
            "  online 0.736\n",
            "  stale 0.750\n",
            "  creamer 0.791\n",
            "  smell 0.843\n",
            "dog 925\n",
            "  pet 0.437\n",
            "  dogs 0.482\n",
            "  foods 0.519\n",
            "  nutritious 0.546\n",
            "  cheap 0.562\n",
            "the 36\n",
            "  . 0.090\n",
            "  of 0.104\n",
            "  to 0.116\n",
            "  in 0.125\n",
            "  and 0.132\n",
            "3 289\n",
            "  8 0.557\n",
            "  2 0.600\n",
            "  per 0.601\n",
            "  1 0.629\n",
            "  about 0.667\n",
            "\n",
            " 5:\n",
            "good 47\n",
            "  very 0.010\n",
            "  save 0.011\n",
            "  system 0.012\n",
            "  un 0.014\n",
            "  above 0.014\n",
            "bad 201\n",
            "  ok 0.001\n",
            "  12 0.004\n",
            "  than 0.005\n",
            "  experience 0.008\n",
            "  nice 0.009\n",
            "cookie 504\n",
            "  together 0.005\n",
            "  everything 0.015\n",
            "  flavorful 0.018\n",
            "  individually 0.023\n",
            "  cheese 0.023\n",
            "jelly 351\n",
            "  tin 0.004\n",
            "  must 0.004\n",
            "  ice 0.007\n",
            "  poor 0.007\n",
            "  excited 0.007\n",
            "dog 925\n",
            "  food 0.006\n",
            "  him 0.006\n",
            "  began 0.007\n",
            "  formula 0.007\n",
            "  general 0.009\n",
            "the 36\n",
            "  a 0.001\n",
            "  be 0.004\n",
            "  need 0.004\n",
            "  but 0.005\n",
            "  savory 0.005\n",
            "3 289\n",
            "  label 0.011\n",
            "  twist 0.030\n",
            "  pain 0.033\n",
            "  priced 0.033\n",
            "  empty 0.033\n"
          ]
        }
      ]
    },
    {
      "cell_type": "markdown",
      "metadata": {
        "id": "AxfunCYh5nmZ"
      },
      "source": [
        "## Part 2: word representations via language modeling\n",
        "\n",
        "In this section, we'll train a word embedding model with a word2vec-style objective rather than a matrix factorization objective. This requires a little more work; we've provided scaffolding for a PyTorch model implementation below.\n",
        "If you don't have much PyTorch experience, there are some tutorials [here](https://pytorch.org/tutorials/) which may be useful. You're also welcome to implement these experiments in any other framework of your choosing."
      ]
    },
    {
      "cell_type": "code",
      "metadata": {
        "id": "M1napibQ6aub"
      },
      "source": [
        "import torch\n",
        "import torch.nn as nn\n",
        "import torch.nn.functional as F\n",
        "import torch.optim as optim\n",
        "import torch.utils.data as torch_data\n",
        "\n",
        "class Word2VecModel(nn.Module):\n",
        "    # A torch module implementing a word2vec predictor. The `forward` function\n",
        "    # should take a batch of context word ids as input and predict the word \n",
        "    # in the middle of the context as output, as in the CBOW model from lecture.\n",
        "\n",
        "    def __init__(self, vocab_size, embed_dim):\n",
        "        super().__init__()\n",
        "        self.V = nn.Linear(vocab_size + 1, embed_dim, bias=False)\n",
        "        self.U = nn.Linear(embed_dim, vocab_size + 1, bias=False)\n",
        "        self.vocab_size = vocab_size\n",
        "\n",
        "    def forward(self, context):\n",
        "        # Context is an `n_batch x n_context` matrix of integer word ids\n",
        "        # this function should return a set of scores for predicting the word \n",
        "        # in the middle of the context\n",
        "\n",
        "        device = torch.device('cuda')  # run on colab gpu\n",
        "        outputs = torch.mean(F.one_hot(context + 1, num_classes=self.vocab_size\\\n",
        "                                       + 1).float().to(device), -2)\n",
        "        outputs = self.V(outputs)\n",
        "        outputs = self.U(outputs)\n",
        "        return outputs"
      ],
      "execution_count": null,
      "outputs": []
    },
    {
      "cell_type": "code",
      "metadata": {
        "id": "ePgZlityuWr3"
      },
      "source": [
        "def learn_reps_word2vec(corpus, window_size, rep_size, n_epochs, n_batch):\n",
        "    #This method takes in a corpus of training sentences. It returns a matrix of\n",
        "    # word embeddings with the same structure as used in the previous section of \n",
        "    # the assignment. (You can extract this matrix from the parameters of the \n",
        "    # Word2VecModel.)\n",
        "\n",
        "    tokenizer = lab_util.Tokenizer()\n",
        "    tokenizer.fit(corpus)\n",
        "    tokenized_corpus = tokenizer.tokenize(corpus)\n",
        "\n",
        "    ngrams = lab_util.get_ngrams(tokenized_corpus, window_size)\n",
        "\n",
        "    device = torch.device('cuda')  # run on colab gpu\n",
        "    model = Word2VecModel(tokenizer.vocab_size, rep_size).to(device)\n",
        "    opt = optim.Adam(model.parameters(), lr=0.001)\n",
        "\n",
        "    loader = torch_data.DataLoader(ngrams, batch_size=n_batch, shuffle=True)\n",
        "\n",
        "    # What loss function should we use for Word2Vec?\n",
        "    loss_fn = nn.CrossEntropyLoss()\n",
        "\n",
        "    losses = []  # Potentially useful for debugging (loss should go down!)\n",
        "    for epoch in tqdm(range(n_epochs)):\n",
        "        epoch_loss = 0\n",
        "        for context, label in loader:\n",
        "            # As described above, `context` is a batch of context word ids, and\n",
        "            # `label` is a batch of predicted word labels.\n",
        "\n",
        "            # Here, perform a forward pass to compute predictions for the model.\n",
        "            preds = model(context)\n",
        "\n",
        "\n",
        "            # Now finish the backward pass and gradient update.\n",
        "            # Remember, you need to compute the loss, zero the gradients\n",
        "            # of the model parameters, perform the backward pass, and\n",
        "            # update the model parameters.\n",
        "            loss = loss_fn(preds, label.to(device))\n",
        "            loss.backward()\n",
        "            opt.step()\n",
        "            opt.zero_grad()\n",
        "\n",
        "\n",
        "            epoch_loss += loss.item()\n",
        "        losses.append(epoch_loss)\n",
        "\n",
        "    # Hint: you want to return a `vocab_size x embedding_size` numpy array\n",
        "    embedding_matrix = model.V.weight.data.T.cpu().numpy()[1:,:]\n",
        "\n",
        "    return embedding_matrix"
      ],
      "execution_count": null,
      "outputs": []
    },
    {
      "cell_type": "code",
      "metadata": {
        "id": "aaUy1cNuB3W1",
        "colab": {
          "base_uri": "https://localhost:8080/"
        },
        "outputId": "89cea5b0-3d04-4f92-b1b7-0c2085877c31"
      },
      "source": [
        "# Use the function you just wrote to learn Word2Vec embeddings:\n",
        "reps_word2vec = learn_reps_word2vec(train_reviews, 2, 500, 10, 100)"
      ],
      "execution_count": null,
      "outputs": [
        {
          "output_type": "stream",
          "name": "stderr",
          "text": [
            "100%|██████████| 10/10 [01:26<00:00,  8.67s/it]\n"
          ]
        }
      ]
    },
    {
      "cell_type": "markdown",
      "metadata": {
        "id": "O3oE-tpR7I39"
      },
      "source": [
        "After training the embeddings, we can try to visualize the embedding space to see if it makes sense. First, we can take any word in the space and check its closest neighbors."
      ]
    },
    {
      "cell_type": "code",
      "metadata": {
        "id": "yMW4QND56bHF",
        "colab": {
          "base_uri": "https://localhost:8080/"
        },
        "outputId": "d766a23c-0fe5-4028-818d-ab44b71540d7"
      },
      "source": [
        "lab_util.show_similar_words(vectorizer.tokenizer, reps_word2vec, show_tokens)"
      ],
      "execution_count": null,
      "outputs": [
        {
          "output_type": "stream",
          "name": "stdout",
          "text": [
            "good 47\n",
            "  great 0.923\n",
            "  decent 1.010\n",
            "  bad 1.069\n",
            "  outstanding 1.121\n",
            "  mild 1.123\n",
            "bad 201\n",
            "  good 1.069\n",
            "  awful 1.097\n",
            "  bitter 1.151\n",
            "  overpowering 1.186\n",
            "  terrible 1.211\n",
            "cookie 504\n",
            "  covered 1.296\n",
            "  nana's 1.319\n",
            "  berry 1.331\n",
            "  lover 1.351\n",
            "  g 1.367\n",
            "jelly 351\n",
            "  bears 1.108\n",
            "  sized 1.238\n",
            "  coffees 1.267\n",
            "  pork 1.294\n",
            "  candies 1.313\n",
            "dog 925\n",
            "  cat 0.795\n",
            "  baby 0.999\n",
            "  cats 1.172\n",
            "  pouch 1.197\n",
            "  son 1.213\n",
            "the 36\n",
            "  mrs 1.052\n",
            "  our 1.263\n",
            "  their 1.265\n",
            "  my 1.274\n",
            "  amazon's 1.291\n",
            "3 289\n",
            "  5 0.863\n",
            "  four 1.043\n",
            "  10 1.089\n",
            "  2 1.103\n",
            "  6 1.110\n"
          ]
        }
      ]
    },
    {
      "cell_type": "markdown",
      "metadata": {
        "id": "ue-9CPSc7fi9"
      },
      "source": [
        "We can also cluster the embedding space. Clustering in 4 or more dimensions is hard to visualize, and even clustering in 2 or 3 can be difficult because there are so many words in the vocabulary. One thing we can try to do is assign cluster labels and qualitiatively look for an underlying pattern in the clusters."
      ]
    },
    {
      "cell_type": "code",
      "metadata": {
        "id": "v-Yf6NMCXVx4",
        "colab": {
          "base_uri": "https://localhost:8080/"
        },
        "outputId": "8d0b5373-0bd1-4dfa-ac87-97514003d12a"
      },
      "source": [
        "from sklearn.cluster import KMeans\n",
        "\n",
        "indices = KMeans(n_clusters=10).fit_predict(reps_word2vec)\n",
        "zipped = list(zip(range(vectorizer.tokenizer.vocab_size), indices))\n",
        "np.random.shuffle(zipped)\n",
        "zipped = zipped[:100]\n",
        "zipped = sorted(zipped, key=lambda x: x[1])\n",
        "for token, cluster_idx in zipped:\n",
        "    word = vectorizer.tokenizer.token_to_word[token]\n",
        "    print(f\"{word}: {cluster_idx}\")"
      ],
      "execution_count": null,
      "outputs": [
        {
          "output_type": "stream",
          "name": "stdout",
          "text": [
            "points: 0\n",
            "week: 0\n",
            "lollipops: 0\n",
            "pounds: 0\n",
            "power: 0\n",
            "five: 0\n",
            "higher: 0\n",
            "p: 0\n",
            "paper: 0\n",
            "ingredient: 1\n",
            "filter: 1\n",
            "center: 1\n",
            "local: 1\n",
            "label: 1\n",
            "mouth: 1\n",
            "depending: 1\n",
            "shape: 1\n",
            "subscription: 1\n",
            "replacement: 1\n",
            "world: 1\n",
            "issue: 1\n",
            "toddler: 1\n",
            "smell: 1\n",
            "popchips: 2\n",
            "nutrients: 2\n",
            "baked: 2\n",
            "sweeteners: 2\n",
            "anything: 2\n",
            "nothing: 2\n",
            "varieties: 2\n",
            "chowder: 2\n",
            "us: 2\n",
            "goodness: 2\n",
            "water: 2\n",
            "swiss: 2\n",
            "fact: 2\n",
            "commercial: 3\n",
            "watermelon: 3\n",
            "pomegranate: 3\n",
            "real: 3\n",
            "tuna: 3\n",
            "stevia: 3\n",
            "garlic: 3\n",
            "cake: 3\n",
            "crust: 3\n",
            "homemade: 3\n",
            "seal: 4\n",
            "digest: 4\n",
            "compare: 4\n",
            "mention: 4\n",
            "seem: 4\n",
            "expect: 4\n",
            "include: 4\n",
            "order: 4\n",
            "run: 4\n",
            "rate: 4\n",
            "bake: 4\n",
            "due: 4\n",
            "for: 5\n",
            "d: 5\n",
            "entirely: 5\n",
            "maybe: 5\n",
            "such: 5\n",
            "except: 5\n",
            "total: 5\n",
            "sticks: 5\n",
            "on: 5\n",
            "lower: 5\n",
            "particular: 5\n",
            "treat: 5\n",
            "nice: 6\n",
            "pricey: 6\n",
            "fluffy: 6\n",
            "excellent: 6\n",
            "similar: 6\n",
            "expensive: 6\n",
            "allowed: 7\n",
            "craving: 7\n",
            "picked: 7\n",
            "noticed: 7\n",
            "mixing: 7\n",
            "shocked: 7\n",
            "throwing: 7\n",
            "stuck: 7\n",
            "produced: 7\n",
            "o: 8\n",
            "last: 8\n",
            "often: 8\n",
            "possible: 8\n",
            "everything: 8\n",
            "having: 8\n",
            "locally: 8\n",
            "easily: 8\n",
            "today: 8\n",
            "quickly: 8\n",
            "its: 8\n",
            "leaves: 9\n",
            "got: 9\n",
            "contains: 9\n",
            "were: 9\n"
          ]
        }
      ]
    },
    {
      "cell_type": "markdown",
      "metadata": {
        "id": "ci1TkENU78Wn"
      },
      "source": [
        "Finally, we can use the trained word embeddings to construct vector representations of full reviews. One common approach is to simply average all the word embeddings in the review to create an overall embedding. Implement the transform function in Word2VecFeaturizer to do this."
      ]
    },
    {
      "cell_type": "code",
      "metadata": {
        "id": "A5vjmRV6Dgbu",
        "colab": {
          "base_uri": "https://localhost:8080/"
        },
        "outputId": "b9a6cc60-cac9-4b20-a0be-df038069d92a"
      },
      "source": [
        "def w2v_featurizer(xs):\n",
        "    # This function takes in a matrix in which each row contains the word counts\n",
        "    # for the given review. It should return a matrix in which each row contains\n",
        "    # the average Word2Vec embedding of each review (hint: this will be very\n",
        "    # similar to `lsa_featurizer` from above, just using Word2Vec embeddings \n",
        "    # instead of LSA).\n",
        "\n",
        "    feats = xs @ reps_word2vec\n",
        "\n",
        "    # normalize\n",
        "    return feats / np.sqrt((feats ** 2).sum(axis=1, keepdims=True))\n",
        "\n",
        "training_experiment(\"word2vec\", w2v_featurizer, 3000)\n",
        "print()"
      ],
      "execution_count": null,
      "outputs": [
        {
          "output_type": "stream",
          "name": "stdout",
          "text": [
            "word2vec features, 3000 examples\n",
            "0.8 \n",
            "\n",
            "\n"
          ]
        }
      ]
    },
    {
      "cell_type": "markdown",
      "metadata": {
        "id": "XSfoQbxaXtfH"
      },
      "source": [
        "**Part 2: Lab writeup**\n",
        "\n",
        "Part 2 of your lab report should discuss any implementation details that were important to filling out the code above, as well as your answers to the questions in Part 2 of the Homework 1 handout. Below, you can set up and perform experiments that answer these questions (include figures, plots, and tables in your write-up as you see fit)."
      ]
    },
    {
      "cell_type": "markdown",
      "metadata": {
        "id": "Beb7dgqWycYx"
      },
      "source": [
        "## Experiments for Part 2"
      ]
    },
    {
      "cell_type": "code",
      "metadata": {
        "id": "obr-zEmNydDm"
      },
      "source": [
        "# Experiments for Part 2 (a) were just done in the \n",
        "#\"lab_util.show_similar_words(vectorizer.tokenizer, reps_word2vec, show_tokens)\"\n",
        "# cell above, and the experiment for Part 2 (b) was just done in the code cell \n",
        "# immediately above this one"
      ],
      "execution_count": null,
      "outputs": []
    }
  ]
}